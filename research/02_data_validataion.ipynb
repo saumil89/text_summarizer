{
 "cells": [
  {
   "cell_type": "code",
   "execution_count": 2,
   "metadata": {},
   "outputs": [
    {
     "data": {
      "text/plain": [
       "'c:\\\\Users\\\\Saumil\\\\Git\\\\text_summarizer'"
      ]
     },
     "execution_count": 2,
     "metadata": {},
     "output_type": "execute_result"
    }
   ],
   "source": [
    "import os\n",
    "from pathlib import Path\n",
    "os.chdir('../')\n",
    "%pwd"
   ]
  },
  {
   "cell_type": "code",
   "execution_count": 22,
   "metadata": {},
   "outputs": [],
   "source": [
    "from dataclasses import dataclass\n",
    "from pathlib import Path\n",
    "\n",
    "@dataclass(frozen=True)\n",
    "class DataValidationConfig:\n",
    "    root_dir: Path\n",
    "    file_status: str\n",
    "    all_files_required: list\n",
    "    "
   ]
  },
  {
   "cell_type": "code",
   "execution_count": 4,
   "metadata": {},
   "outputs": [],
   "source": [
    "from textSummarizer.constants import *\n",
    "from textSummarizer.utils.common import read_yaml, create_dir"
   ]
  },
  {
   "cell_type": "code",
   "execution_count": 18,
   "metadata": {},
   "outputs": [],
   "source": [
    "class ConfigurationManager:\n",
    "    def __init__(\n",
    "        self,\n",
    "        config_filepath = CONFIG_FILE_PATH,\n",
    "        params_filepath = PARAMS_FILE_PATH\n",
    "    ):\n",
    "\n",
    "        self.config = read_yaml(config_filepath)\n",
    "        self.params = read_yaml(params_filepath)\n",
    "        \n",
    "        \n",
    "    def downloaded_data_validation_config(self) -> DataValidationConfig:\n",
    "            config = self.config.data_validation\n",
    "\n",
    "            create_dir([config.root_dir])\n",
    "\n",
    "            data_validation_config = DataValidationConfig(\n",
    "                root_dir = config.root_dir,\n",
    "                file_status = config.file_status,\n",
    "                all_files_required = config.all_files_required\n",
    "            )\n",
    "            \n",
    "            return data_validation_config\n"
   ]
  },
  {
   "cell_type": "code",
   "execution_count": 19,
   "metadata": {},
   "outputs": [],
   "source": [
    "import os\n",
    "from pathlib import Path\n",
    "from textSummarizer.logging import logger"
   ]
  },
  {
   "cell_type": "code",
   "execution_count": 20,
   "metadata": {},
   "outputs": [],
   "source": [
    "class DataValidation:\n",
    "    def __init__(\n",
    "        self,\n",
    "        config: DataValidationConfig\n",
    "    ):\n",
    "    \n",
    "        self.config = config\n",
    "\n",
    "    def validate_all_files_exist(self) -> bool:\n",
    "        try:\n",
    "            validation = None\n",
    "            all_files = os.listdir(Path('artifacts\\data_ingestion\\samsum_dataset'))\n",
    "\n",
    "            for file in all_files:\n",
    "                if file not in self.config.all_files_required:\n",
    "                    validation = False\n",
    "                    with open(self.config.file_status, 'a') as f:\n",
    "                        f.write(f'File {file} not found in required files\\n')\n",
    "                    logger.error(f'File {file} not found in required files')\n",
    "                else:\n",
    "                    validation = True\n",
    "                    with open(self.config.file_status, 'a') as f:\n",
    "                        f.write(f'File {file} found in required files\\n')\n",
    "                    logger.info(f'File {file} found in required files')\n",
    "            \n",
    "            return validation\n",
    "        except Exception as e:\n",
    "            raise e\n",
    "        "
   ]
  },
  {
   "cell_type": "code",
   "execution_count": 23,
   "metadata": {},
   "outputs": [
    {
     "name": "stdout",
     "output_type": "stream",
     "text": [
      "[2024-01-20 18:51:55,714: INFO: common: Read config\\config.yaml successfully]\n",
      "[2024-01-20 18:51:55,715: INFO: common: Read params.yaml successfully]\n",
      "[2024-01-20 18:51:55,716: INFO: common: artifacts/data_validation already exists]\n",
      "[2024-01-20 18:51:55,718: ERROR: 3947966481: File dataset_dict.json not found in required files]\n",
      "[2024-01-20 18:51:55,719: INFO: 3947966481: File test found in required files]\n",
      "[2024-01-20 18:51:55,721: INFO: 3947966481: File train found in required files]\n",
      "[2024-01-20 18:51:55,722: INFO: 3947966481: File validation found in required files]\n",
      "[2024-01-20 18:51:55,723: INFO: 303413723: All files exist]\n"
     ]
    }
   ],
   "source": [
    "try:\n",
    "    config = ConfigurationManager()\n",
    "    data_validation = DataValidation(config.downloaded_data_validation_config())\n",
    "    data_validation.validate_all_files_exist()\n",
    "    logger.info('All files exist')\n",
    "except Exception as e:\n",
    "    raise e"
   ]
  },
  {
   "cell_type": "code",
   "execution_count": 25,
   "metadata": {},
   "outputs": [
    {
     "data": {
      "text/plain": [
       "['dataset_dict.json', 'test', 'train', 'validation']"
      ]
     },
     "execution_count": 25,
     "metadata": {},
     "output_type": "execute_result"
    }
   ],
   "source": [
    "os.listdir(os.path.join('artifacts','data_ingestion','samsum_dataset'))"
   ]
  },
  {
   "cell_type": "code",
   "execution_count": null,
   "metadata": {},
   "outputs": [],
   "source": []
  }
 ],
 "metadata": {
  "kernelspec": {
   "display_name": "text",
   "language": "python",
   "name": "python3"
  },
  "language_info": {
   "codemirror_mode": {
    "name": "ipython",
    "version": 3
   },
   "file_extension": ".py",
   "mimetype": "text/x-python",
   "name": "python",
   "nbconvert_exporter": "python",
   "pygments_lexer": "ipython3",
   "version": "3.11.5"
  }
 },
 "nbformat": 4,
 "nbformat_minor": 2
}
